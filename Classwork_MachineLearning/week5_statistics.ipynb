{
 "cells": [
  {
   "cell_type": "markdown",
   "metadata": {},
   "source": [
    "## Astronomy 406 \"Computational Astrophysics\" (Fall 2017)"
   ]
  },
  {
   "cell_type": "markdown",
   "metadata": {},
   "source": [
    "### Week 5: Statistical description of data"
   ]
  },
  {
   "cell_type": "markdown",
   "metadata": {},
   "source": [
    "<b>Reading:</b> notes below, as well as $\\S$[14.1](https://umich.instructure.com/files/5261902/download?download_frd=1) of [Numerical Recipes](http://numerical.recipes) and $\\S$3.1-3.3 of [Machine Learning](http://www.astroml.org/)."
   ]
  },
  {
   "cell_type": "code",
   "execution_count": 2,
   "metadata": {
    "collapsed": false
   },
   "outputs": [],
   "source": [
    "%matplotlib inline\n",
    "from matplotlib import rcParams\n",
    "rcParams[\"savefig.dpi\"] = 90\n",
    "import numpy as np\n",
    "import matplotlib.pyplot as plt\n",
    "from scipy import stats"
   ]
  },
  {
   "cell_type": "markdown",
   "metadata": {
    "collapsed": false
   },
   "source": [
    "Now we begin to explore statistical properties of real-life data sets.  Suppose we have an array of measurements of some real object, for example, the height of students in this class, or in the whole University of Michigan.  Assume we have $n$ measurements $x_i$ that are independent of each other.\n",
    "\n",
    "Let's generate a sample of 100 points and plot it as a histogram.  We will be using a useful set of histogram options from the <b>astroML</b> library.  Make sure you have it installed with your Python distribution (see http://www.astroml.org/user_guide/installation.html)."
   ]
  },
  {
   "cell_type": "code",
   "execution_count": 2,
   "metadata": {
    "collapsed": false,
    "scrolled": true
   },
   "outputs": [
    {
     "data": {
      "image/png": "[encoded data removed]",
      "text/plain": [
       "<matplotlib.figure.Figure at 0x7835978>"
      ]
     },
     "metadata": {},
     "output_type": "display_data"
    }
   ],
   "source": [
    "np.random.seed(0)\n",
    "x = 5 + np.random.random(100)\n",
    "\n",
    "plt.hist(x)\n",
    "plt.show()"
   ]
  },
  {
   "cell_type": "markdown",
   "metadata": {},
   "source": [
    "Now the [astroML histogram](http://www.astroml.org/book_figures/chapter5/fig_hist_binsize.html):"
   ]
  },
  {
   "cell_type": "code",
   "execution_count": 3,
   "metadata": {
    "collapsed": false
   },
   "outputs": [
    {
     "data": {
      "image/png": "[encoded data removed]",
      "text/plain": [
       "<matplotlib.figure.Figure at 0x1738e048>"
      ]
     },
     "metadata": {},
     "output_type": "display_data"
    }
   ],
   "source": [
    "from astroML.plotting import hist\n",
    "hist(x, bins='scotts')\n",
    "plt.show()"
   ]
  },
  {
   "cell_type": "code",
   "execution_count": 4,
   "metadata": {
    "collapsed": false
   },
   "outputs": [
    {
     "data": {
      "image/png": "[encoded data removed]",
      "text/plain": [
       "<matplotlib.figure.Figure at 0x17b135c0>"
      ]
     },
     "metadata": {},
     "output_type": "display_data"
    }
   ],
   "source": [
    "hist(x, bins='knuth')\n",
    "plt.show()"
   ]
  },
  {
   "cell_type": "markdown",
   "metadata": {},
   "source": [
    "The <i>mean</i> of the sample is defined as\n",
    "$$ \\bar{x} = {1\\over n} \\sum_{i=0}^{n-1} x_i. $$\n",
    "\n",
    "The <i>variance</i> of the sample is defined as\n",
    "$$ Var = {1\\over n-1} \\sum_{i=0}^{n-1} (x_i - \\bar{x})^2. $$\n",
    "\n",
    "The <i>standard deviation</i> is \n",
    "$\\sigma = \\sqrt{Var}$.\n",
    "\n",
    "Higher order moments of the distribution, such as the <i>skewness</i> and <i>kurtosis</i>, are defined in $\\S$14.1 of NR.\n",
    "\n",
    "The <i>median</i> is defined as the point right in the middle of a sorted (monotonically increasing, or decreasing) sample: $x_{\\rm med} = x_{(n-1)/2}$."
   ]
  },
  {
   "cell_type": "markdown",
   "metadata": {},
   "source": [
    "<b>Exercise:</b> What do you expect the mean of our sample to be?  The standard deviation?"
   ]
  },
  {
   "cell_type": "code",
   "execution_count": 5,
   "metadata": {
    "collapsed": false
   },
   "outputs": [
    {
     "name": "stdout",
     "output_type": "stream",
     "text": [
      "mean = 5.47279383951\n",
      "st_dev = 0.288301605015\n",
      "median = 5.46748098725\n"
     ]
    }
   ],
   "source": [
    "print \"mean =\", np.mean(x)\n",
    "print \"st_dev =\", np.std(x)\n",
    "print \"median =\", np.median(x)"
   ]
  },
  {
   "cell_type": "markdown",
   "metadata": {},
   "source": [
    "Now let's take a different sample.  It will be generated from a normal (also often called Gaussian) distribution, with zero mean ($\\mu=0$) and standard deviation $\\sigma=1$. "
   ]
  },
  {
   "cell_type": "code",
   "execution_count": 6,
   "metadata": {
    "collapsed": false
   },
   "outputs": [
    {
     "data": {
      "image/png": "[encoded data removed]",
      "text/plain": [
       "<matplotlib.figure.Figure at 0x17c69128>"
      ]
     },
     "metadata": {},
     "output_type": "display_data"
    }
   ],
   "source": [
    "x2 = np.random.normal(0, 1, 100)\n",
    "#plt.hist(x2)\n",
    "hist(x2, bins='scotts')\n",
    "plt.show()"
   ]
  },
  {
   "cell_type": "code",
   "execution_count": 7,
   "metadata": {
    "collapsed": false
   },
   "outputs": [
    {
     "name": "stdout",
     "output_type": "stream",
     "text": [
      "mean = 0.192334344077\n",
      "st_dev = 0.996378052847\n",
      "median = 0.253256576141\n"
     ]
    }
   ],
   "source": [
    "print \"mean =\", np.mean(x2)\n",
    "print \"st_dev =\", np.std(x2)\n",
    "print \"median =\", np.median(x2)"
   ]
  },
  {
   "cell_type": "markdown",
   "metadata": {},
   "source": [
    "<b>Exercise:</b> These numbers are not exactly equal to $\\mu$ and $\\sigma$ used to generate the sample.  Why?  Calculate and plot the error of the mean and standard deviation as a function of sample size."
   ]
  },
  {
   "cell_type": "code",
   "execution_count": 8,
   "metadata": {
    "collapsed": false
   },
   "outputs": [
    {
     "name": "stdout",
     "output_type": "stream",
     "text": [
      "error for n=1: mean = 5.82e-01  st_dev = 5.32e-02\n",
      "error for n=2: mean = 4.50e-02  st_dev = 3.61e-02\n",
      "error for n=3: mean = 3.13e-02  st_dev = 2.24e-02\n",
      "error for n=4: mean = 1.27e-02  st_dev = 9.81e-03\n",
      "error for n=5: mean = 4.22e-03  st_dev = 1.49e-03\n",
      "error for n=6: mean = 9.46e-04  st_dev = 1.41e-04\n",
      "error for n=7: mean = 2.50e-04  st_dev = 3.20e-04\n",
      "error for n=8: mean = 4.30e-05  st_dev = 1.24e-04\n"
     ]
    }
   ],
   "source": [
    "npoints = []\n",
    "emean = []\n",
    "estd = []\n",
    "\n",
    "for n in range(1,9):\n",
    "    x2 = np.random.normal(0, 1, 10**n)\n",
    "    print \"error for n=%d: mean = %.2e  st_dev = %.2e\"%\\\n",
    "    (n, abs(np.mean(x2)-0.), abs(np.std(x2)-1.))\n",
    "    npoints.append(10**n)\n",
    "    emean.append(abs(np.mean(x2)-0.))\n",
    "    estd.append(abs(np.std(x2)-1.))"
   ]
  },
  {
   "cell_type": "code",
   "execution_count": 9,
   "metadata": {
    "collapsed": false,
    "scrolled": true
   },
   "outputs": [
    {
     "data": {
      "image/png": "[encoded data removed]",
      "text/plain": [
       "<matplotlib.figure.Figure at 0x17b99ef0>"
      ]
     },
     "metadata": {},
     "output_type": "display_data"
    }
   ],
   "source": [
    "plt.scatter(np.log10(npoints), np.log10(emean), c='r')\n",
    "plt.scatter(np.log10(npoints), np.log10(estd), c='b')\n",
    "xx = np.array([ 1, 8 ])\n",
    "plt.plot(xx, -0.5*xx-0.3, '-k')\n",
    "plt.show()\n",
    "\n",
    "#Demonstrates how accuracy goes like 1 - xbar / mu -> N^(-1/2) accuracy"
   ]
  },
  {
   "cell_type": "markdown",
   "metadata": {},
   "source": [
    "If we need a sorted array, we can use the built-in function with the intuitive name <b>sorted</b>, or simply use an array method <b>sort</b>.  The former creates a new array, while the latter changes the values of $x$."
   ]
  },
  {
   "cell_type": "code",
   "execution_count": 10,
   "metadata": {
    "collapsed": false
   },
   "outputs": [
    {
     "data": {
      "text/plain": [
       "<function sort>"
      ]
     },
     "execution_count": 10,
     "metadata": {},
     "output_type": "execute_result"
    }
   ],
   "source": [
    "xs = sorted(x)\n",
    "x.sort"
   ]
  },
  {
   "cell_type": "markdown",
   "metadata": {},
   "source": [
    "Let's plot three Gaussian functions with same mean but different standard deviations.  This is an example from <b>astroML</b> figure 3.8.  You can see the source on their website, http://www.astroml.org/book_figures/chapter3/."
   ]
  },
  {
   "cell_type": "code",
   "execution_count": 11,
   "metadata": {
    "collapsed": false
   },
   "outputs": [
    {
     "data": {
      "image/png": "[encoded data removed]",
      "text/plain": [
       "<matplotlib.figure.Figure at 0x180b9518>"
      ]
     },
     "metadata": {},
     "output_type": "display_data"
    }
   ],
   "source": [
    "sigma_values = [0.5, 1.0, 2.0]\n",
    "linestyles = ['-', '--', ':']\n",
    "mu = 0\n",
    "x = np.linspace(-10, 10, 1000)\n",
    "\n",
    "for sig, ls in zip(sigma_values, linestyles):\n",
    "    dist = stats.norm(mu, sig)   # create a normal distribution\n",
    "    plt.plot(x, dist.pdf(x), ls=ls, label=r'$\\mu=%i,\\ \\sigma=%.1f$' % (mu, sig))\n",
    "\n",
    "plt.xlim(-5, 5)\n",
    "plt.ylim(0, 0.9)\n",
    "plt.xlabel('x')\n",
    "plt.ylabel('p(x|$\\mu$,$\\sigma$)')\n",
    "plt.legend(frameon=False)\n",
    "plt.show()"
   ]
  },
  {
   "cell_type": "markdown",
   "metadata": {},
   "source": [
    "<b>Exercise:</b> Write your own routine to evaluate the mean, median, and standard deviation of a sample.  Run it on the sample $x_i$ above and compare the answers with those given by numpy."
   ]
  },
  {
   "cell_type": "code",
   "execution_count": null,
   "metadata": {
    "collapsed": false
   },
   "outputs": [],
   "source": [
    "#Run on x2, you should ge same as np (0.08, 0.94, and -0.008)\n",
    "\n",
    "def mean(data):\n",
    "    return 1./len(data) * sum(data)\n",
    "    \n",
    "def median(data):\n",
    "    if len(data) % 2 == 1:\n",
    "        return sorted(data)[len(data) / 2]\n",
    "    else:\n",
    "        return (sorted(data)[len(data)/2] + sorted(data)[len(data)/2 - 1]) / 2.\n",
    "    \n",
    "def stdev(data): \n",
    "    dev = []\n",
    "    \n",
    "    meanval = mean(data)\n",
    "    \n",
    "    for val in data:\n",
    "        dev.append( (meanval - val)**2. )\n",
    "    \n",
    "    return 1./(len(data) - 1.) * sum(dev)\n",
    "    \n",
    "print mean(x2) / np.mean(x2)\n",
    "print stdev(x2) / np.std(x2)\n",
    "print median(x2) / np.median(x2)"
   ]
  },
  {
   "cell_type": "markdown",
   "metadata": {},
   "source": [
    "#### Meaning of a distribution function"
   ]
  },
  {
   "cell_type": "markdown",
   "metadata": {},
   "source": [
    "In order to understand fundamental properties of the sample, or to make predictions for a distribution of future measurements (example: election polls), we wish to find a continuous distribution function that best describes the sample.  In the statistical language it means the sample is consistent with being drawn from that distribution function, $p(x)$.\n",
    "\n",
    "The distribution function (DF) is properly normalized as\n",
    "$\\int_{-\\infty}^{\\infty} p(x) dx = 1$.\n",
    "\n",
    "In terms of $p(x)$, the mean is defined as\n",
    "$\\bar{x} = \\int x P(x) dx$,\n",
    "with similar expressions for the higher moments.\n",
    "\n",
    "<b>Exercise:</b> Is this definition of the mean consistent with the discrete defition above?  How can we show it mathematically?"
   ]
  },
  {
   "cell_type": "markdown",
   "metadata": {},
   "source": [
    "Converting x_mean = integral[x * P(x) dx] = sum[x_i] / N -> P(x) = 1/N * sum[delta(x - x_i)] from 0 to N\n",
    "\n",
    "P(x) = 1/N * sum[delta(x - x_i)] -> Approx P(x) = 1/N * sum[gaussian for sigma -> 0]\n",
    "\n",
    "\n"
   ]
  },
  {
   "cell_type": "markdown",
   "metadata": {},
   "source": [
    "The normal DF is probably the most commonly used in all of statistics.  Other useful DFs in astronomy are the Poisson distribution and Student's $t$-distribution."
   ]
  },
  {
   "cell_type": "code",
   "execution_count": 2,
   "metadata": {
    "collapsed": false
   },
   "outputs": [
    {
     "data": {
      "image/png": "[encoded data removed]",
      "text/plain": [
       "<matplotlib.figure.Figure at 0x3ef1b70>"
      ]
     },
     "metadata": {},
     "output_type": "display_data"
    }
   ],
   "source": [
    "x = np.arange(0, 35)\n",
    "    \n",
    "for mu in [3, 8, 20]:\n",
    "    plt.plot(x, stats.poisson.pmf(x,mu), label=r'$\\mu=%i$' % mu, linestyle='steps-mid')\n",
    "\n",
    "# plot a normal distribution for comparison\n",
    "plt.plot(x, stats.norm.pdf(x, mu, np.sqrt(mu)), label='normal')\n",
    "    \n",
    "plt.xlim(0, 35)\n",
    "plt.ylim(0, 0.24)\n",
    "plt.xlabel('x')\n",
    "plt.ylabel('p(x|$\\mu$)')\n",
    "plt.title('Poisson Distribution')\n",
    "plt.legend(frameon=False)\n",
    "plt.show()"
   ]
  },
  {
   "cell_type": "markdown",
   "metadata": {},
   "source": [
    "For large N, Poisson's distribution approaches Gaussian with $\\mu = N$, $\\sigma = N^{1/2}$.\n",
    "Let's now draw a set of $N$ random numbers obeying the Poisson and normal distributions."
   ]
  },
  {
   "cell_type": "code",
   "execution_count": 3,
   "metadata": {
    "collapsed": false
   },
   "outputs": [
    {
     "name": "stdout",
     "output_type": "stream",
     "text": [
      "Poisson: mean = 1.031 st_dev = 1.010\n",
      "Normal:  mean = 1.022 st_dev = 0.984 ratio of means = 0.991\n",
      "Poisson: mean = 9.973 st_dev = 3.367\n",
      "Normal:  mean = 10.120 st_dev = 3.153 ratio of means = 1.015\n",
      "Poisson: mean = 100.503 st_dev = 10.009\n",
      "Normal:  mean = 99.862 st_dev = 9.836 ratio of means = 0.994\n"
     ]
    }
   ],
   "source": [
    "#As mu increases, poisson merges into gaussian distrib\n",
    "#Sigma goes like sqrt(N) and something about 1 / sqrt(N)\n",
    "\n",
    "N = 1000\n",
    "\n",
    "for mu in [1,10,100]:\n",
    "    z1 = np.random.poisson(mu, N)\n",
    "    print 'Poisson: mean = %5.3f st_dev = %5.3f' % (np.mean(z1), np.std(z1, ddof=1))\n",
    "    z2 = np.random.normal(mu, np.sqrt(mu), N)\n",
    "    print 'Normal:  mean = %5.3f st_dev = %5.3f ratio of means = %.3f' % (np.mean(z2), np.std(z2, ddof=1), np.mean(z2)/np.mean(z1))"
   ]
  },
  {
   "cell_type": "markdown",
   "metadata": {},
   "source": [
    "<b>Exercise:</b> Why is the calculated mean value for a sample, $\\bar{x}$, not equal exactly the center of the distribution, $\\mu$?\n",
    "\n",
    "The error of the mean, estimated from the sample, is $\\delta\\bar{x} = \\sqrt{Var\\over N}$. \n",
    "Let's check how the error of the mean and standard deviation vary with size of sample:"
   ]
  },
  {
   "cell_type": "code",
   "execution_count": 4,
   "metadata": {
    "collapsed": false
   },
   "outputs": [
    {
     "name": "stderr",
     "output_type": "stream",
     "text": [
      "C:\\Users\\Adam2\\Anaconda\\lib\\site-packages\\ipykernel\\__main__.py:8: DeprecationWarning: using a non-integer number instead of an integer will result in an error in the future\n"
     ]
    },
    {
     "data": {
      "image/png": "[encoded data removed]",
      "text/plain": [
       "<matplotlib.figure.Figure at 0x3d30080>"
      ]
     },
     "metadata": {},
     "output_type": "display_data"
    }
   ],
   "source": [
    "mu = 0.\n",
    "sig = 1.\n",
    "Nl = []\n",
    "errl = []\n",
    "stdl = []\n",
    "\n",
    "for N in np.logspace(1,8,15):\n",
    "    z = np.random.normal(mu, sig, N)\n",
    "    Nl.append(N)\n",
    "    errl.append(abs(np.mean(z)-mu))\n",
    "    stdl.append(np.std(z, ddof=1))\n",
    "\n",
    "x = np.array([1, 8])\n",
    "plt.plot(x, -x/2., '-')\n",
    "\n",
    "plt.xlim(0, 9)\n",
    "plt.ylim(-5, 1)\n",
    "plt.xlabel('log N')\n",
    "plt.ylabel(r'$\\log{\\delta\\bar{x}}$')\n",
    "plt.plot(np.log10(Nl), np.log10(errl), 'b.', label='error of mean')\n",
    "plt.plot(np.log10(Nl), np.log10(stdl), 'r.', label='standard dev')\n",
    "plt.legend(frameon=False, loc=3)\n",
    "plt.show()"
   ]
  },
  {
   "cell_type": "markdown",
   "metadata": {},
   "source": [
    "We can see that the standard deviation approaches a constant ($\\sigma$), while the error of the mean decreases as $\\delta\\bar{x} \\approx \\sigma/N^{1/2}$.\n",
    "\n",
    "Given a sample of $N$ measurements $x_i$ drawn from a Gaussian distribution $N(\\mu,\\sigma)$, the variable $t = {\\bar{x}-\\mu \\over \\delta\\bar{x}}$ follows Student's [$t$-distribution](http://docs.scipy.org/doc/scipy-0.15.1/reference/generated/scipy.stats.t.html):\n",
    "\n",
    "$$\n",
    "p_s(t|\\nu) = {\\Gamma\\left({\\nu+1 \\over 2}\\right) \\over \\sqrt{\\pi \\nu} \\, \\Gamma\\left({\\nu \\over 2}\\right)} \\left({1 + {t^2 \\over \\nu}}\\right)^{-(\\nu+1)/2}\n",
    "$$\n",
    "\n",
    "For large $\\nu$, $p_s(t|\\nu)$ approaches normal $N(0,1)$ distribution.  Thus the error of the mean for a large sample is itself distributed as a Gaussian."
   ]
  },
  {
   "cell_type": "code",
   "execution_count": 5,
   "metadata": {
    "collapsed": false
   },
   "outputs": [
    {
     "data": {
      "image/png": "[encoded data removed]",
      "text/plain": [
       "<matplotlib.figure.Figure at 0x7308f98>"
      ]
     },
     "metadata": {},
     "output_type": "display_data"
    }
   ],
   "source": [
    "nu_values = [20, 2, 1]\n",
    "linestyles = ['--', ':', '-.']\n",
    "t = np.linspace(-10, 10, 1000)\n",
    "\n",
    "for nu, ls in zip(nu_values, linestyles):\n",
    "    if nu >= 1e10:\n",
    "        label = r'$\\mathrm{t}(\\nu=\\infty)$'\n",
    "    else:\n",
    "        label = r'$\\mathrm{t}(\\nu=%.0f)$' % nu\n",
    "    plt.plot(t, stats.t.pdf(t,nu), ls=ls, label=label)\n",
    "\n",
    "plt.plot(t, stats.norm.pdf(t,0,1), '-', label='normal')\n",
    "\n",
    "plt.xlim(-5, 5)\n",
    "plt.ylim(0.0, 0.45)\n",
    "\n",
    "plt.xlabel('t')\n",
    "plt.ylabel(r'p(t|$\\nu$)')\n",
    "plt.title(\"Student's $t$ distribution\")\n",
    "plt.legend(frameon=False)\n",
    "plt.show()"
   ]
  },
  {
   "cell_type": "markdown",
   "metadata": {},
   "source": [
    "#### Quantifying differences between samples"
   ]
  },
  {
   "cell_type": "markdown",
   "metadata": {},
   "source": [
    "Not let's take some real data.  File <b>gc.dat</b> (located in Canvas/Files/Data files) contains measurements of three properties of old massive star clusters in our Galaxy: <i>metallicity</i> (which is the log10 of the ratio of iron abundance to its value in the Sun), <i>mass</i> (in units of solar mass), and <i>distance from the center of the Galaxy</i> (in kpc).  Before doing any statistical analysis, it is always a good idea to look at the data first."
   ]
  },
  {
   "cell_type": "code",
   "execution_count": 3,
   "metadata": {
    "collapsed": false
   },
   "outputs": [
    {
     "data": {
      "image/png": "[encoded data removed]",
      "text/plain": [
       "<matplotlib.figure.Figure at 0x17198710>"
      ]
     },
     "metadata": {},
     "output_type": "display_data"
    }
   ],
   "source": [
    "feh, m, d = np.loadtxt(\"DataFiles/gc.dat\", unpack=True)\n",
    "\n",
    "lgm = np.log10(m)\n",
    "lgd = np.log10(d)\n",
    "\n",
    "plt.plot(feh, lgm, 'bo', markersize=4)\n",
    "plt.xlabel('[Fe/H]')\n",
    "plt.ylabel('log M')\n",
    "plt.show()"
   ]
  },
  {
   "cell_type": "code",
   "execution_count": 4,
   "metadata": {
    "collapsed": false
   },
   "outputs": [
    {
     "data": {
      "image/png": "[encoded data removed]",
      "text/plain": [
       "<matplotlib.figure.Figure at 0x171985c0>"
      ]
     },
     "metadata": {},
     "output_type": "display_data"
    }
   ],
   "source": [
    "plt.plot(feh, lgd, 'bo', markersize=4)\n",
    "plt.xlabel('[Fe/H]')\n",
    "plt.ylabel('log d')\n",
    "plt.show()"
   ]
  },
  {
   "cell_type": "code",
   "execution_count": 5,
   "metadata": {
    "collapsed": false
   },
   "outputs": [
    {
     "data": {
      "image/png": "[encoded data removed]",
      "text/plain": [
       "<matplotlib.figure.Figure at 0x1741fd68>"
      ]
     },
     "metadata": {},
     "output_type": "display_data"
    }
   ],
   "source": [
    "plt.plot(lgm, lgd, 'bo', markersize=4)\n",
    "plt.xlabel('log M')\n",
    "plt.ylabel('log d')\n",
    "plt.show()"
   ]
  },
  {
   "cell_type": "markdown",
   "metadata": {},
   "source": [
    "When we deal with astronomical or physical variables, we often use logarithms.  Note an interesting property that the mean of $\\log{M}$ is not equal log of mean $M$ (but medians are the same):"
   ]
  },
  {
   "cell_type": "code",
   "execution_count": 6,
   "metadata": {
    "collapsed": false
   },
   "outputs": [
    {
     "name": "stdout",
     "output_type": "stream",
     "text": [
      "log of M_mean = 5.5682 median = 5.3404\n",
      "logM_mean     = 5.2539 median = 5.3404\n"
     ]
    }
   ],
   "source": [
    "print 'log of M_mean = %6.4f median = %6.4f' % (np.log10(np.mean(m)), np.log10(np.median(m)))\n",
    "print 'logM_mean     = %6.4f median = %6.4f' % (np.mean(lgm), np.median(lgm))"
   ]
  },
  {
   "cell_type": "markdown",
   "metadata": {},
   "source": [
    "All three variables belong to a given object.  So if we select a subset of objects, we pick all three numbers together.  Let's split the sample in two parts, based on the threshold value of metallicity of -1, and calculate basic statistics:"
   ]
  },
  {
   "cell_type": "code",
   "execution_count": 7,
   "metadata": {
    "collapsed": false
   },
   "outputs": [
    {
     "name": "stdout",
     "output_type": "stream",
     "text": [
      "sample 1 [Fe/H] mean = -1.617 st_dev = 0.307\n",
      "sample 2 [Fe/H] mean = -0.566 st_dev = 0.265\n",
      "sample 1 lgM mean = 5.302 st_dev = 0.579\n",
      "sample 2 lgM mean = 5.145 st_dev = 0.642\n",
      "sample 1 lgd mean = 0.912 st_dev = 0.493\n",
      "sample 2 lgd mean = 0.503 st_dev = 0.333\n"
     ]
    }
   ],
   "source": [
    "feh_th = -1.0\n",
    "\n",
    "feh1 = feh[feh < feh_th]\n",
    "lgm1 = lgm[feh < feh_th]\n",
    "lgd1 = lgd[feh < feh_th]\n",
    "\n",
    "feh2 = feh[feh >= feh_th]\n",
    "lgm2 = lgm[feh >= feh_th]\n",
    "lgd2 = lgd[feh >= feh_th]\n",
    "\n",
    "print 'sample 1 [Fe/H] mean = %.3f st_dev = %.3f' % (np.mean(feh1), np.std(feh1,ddof=1))\n",
    "print 'sample 2 [Fe/H] mean = %.3f st_dev = %.3f' % (np.mean(feh2), np.std(feh2,ddof=1))\n",
    "\n",
    "print 'sample 1 lgM mean = %.3f st_dev = %.3f' % (np.mean(lgm1), np.std(lgm1,ddof=1))\n",
    "print 'sample 2 lgM mean = %.3f st_dev = %.3f' % (np.mean(lgm2), np.std(lgm2,ddof=1))\n",
    "\n",
    "print 'sample 1 lgd mean = %.3f st_dev = %.3f' % (np.mean(lgd1), np.std(lgd1,ddof=1))\n",
    "print 'sample 2 lgd mean = %.3f st_dev = %.3f' % (np.mean(lgd2), np.std(lgd2,ddof=1))"
   ]
  },
  {
   "cell_type": "markdown",
   "metadata": {},
   "source": [
    "The significance of a difference of means of two samples is also measured by Student’s <i>t</i> distribution, with\n",
    "\n",
    "$$\n",
    "t = {\\bar{x}_A - \\bar{x}_B \\over (\\delta\\bar{x}_A^2 + \\delta\\bar{x}_B^2)^{1/2}},\n",
    "$$\n",
    "\n",
    "where $\\delta\\bar{x}_i^2 \\equiv {Var_i \\over N_i}$.\n",
    "\n",
    "The <i>effective</i> number of degrees of freedom is a weighted sum of the two sample sizes:\n",
    "\n",
    "$$\n",
    "\\nu = {(\\delta\\bar{x}_{A}^{2} + \\delta\\bar{x}_{B}^{2})^2 \\over \\delta\\bar{x}_{A}^{4}/(N_A-1) + \\bar{x}_{B}^{4}/(N_B-1)}.\n",
    "$$\n",
    "\n",
    "The observed difference of the means is significant when $\\bar{x}_A - \\bar{x}_B$ is large, but how large?  It is commonly accepted that the difference is statistically significant when\n",
    "\n",
    "$$ P_s(>t) = 2 \\int_t^\\infty p_s(x) dx \\lesssim 0.01. $$\n",
    "\n",
    "Let's compare the mean masses and distances of our two samples:"
   ]
  },
  {
   "cell_type": "code",
   "execution_count": 8,
   "metadata": {
    "collapsed": false
   },
   "outputs": [
    {
     "name": "stdout",
     "output_type": "stream",
     "text": [
      "M: |t|= 1.37805152117  P= 0.172380039369\n",
      "d: |t|= 5.75727824126  P= 7.19621049375e-08\n"
     ]
    }
   ],
   "source": [
    "dxA = np.std(lgm2,ddof=1)/np.sqrt(len(lgm2))\n",
    "dxB = np.std(lgm1,ddof=1)/np.sqrt(len(lgm1))\n",
    "t = (np.mean(lgm2)-np.mean(lgm1))/np.sqrt(dxA**2 + dxB**2)\n",
    "nu = (dxA**2 + dxB**2)**2/(dxA**4/(len(lgm2)-1) + dxB**4/(len(lgm1)-1))\n",
    "print \"M: |t|=\",abs(t),\" P=\",stats.t.cdf(t,nu)*2\n",
    "\n",
    "dxA = np.std(lgd2,ddof=1)/np.sqrt(len(lgd2))\n",
    "dxB = np.std(lgd1,ddof=1)/np.sqrt(len(lgd1))\n",
    "t = (np.mean(lgd2)-np.mean(lgd1))/np.sqrt(dxA**2 + dxB**2)\n",
    "nu = (dxA**2 + dxB**2)**2/(dxA**4/(len(lgd2)-1) + dxB**4/(len(lgd1)-1))\n",
    "print \"d: |t|=\",abs(t),\" P=\",stats.t.cdf(t,nu)*2"
   ]
  },
  {
   "cell_type": "markdown",
   "metadata": {},
   "source": [
    "The difference of the distances is significant, but of masses is not."
   ]
  },
  {
   "cell_type": "markdown",
   "metadata": {},
   "source": [
    "### Kolmogorov-Smirnov test\n",
    "\n",
    "<b>Reading:</b> notes below, as well as $\\S$[14.3](https://umich.instructure.com/files/2677283/download?download_frd=1) of [Numerical Recipes](http://numerical.recipes)."
   ]
  },
  {
   "cell_type": "markdown",
   "metadata": {},
   "source": [
    "A more general, and accurate, test of whether a given sample is consistent with being drawn from a known model distribution function (DF) is Kolmogorov-Smirnov test.  It measures the maximum difference of the cumulative DF $P(>x)$ of the sample and model over the whole range of data $x$:\n",
    "\n",
    "$$ D = \\max |S_N(x) - P(>x)|, $$\n",
    "\n",
    "from -inf to inf. This D is essentially the difference in height between some prob distrib and some sample step function that is observed (like a histogram). This is where\n",
    "\n",
    "$$ S_N = {1\\over N} \\sum_{i=0}^{N-1} h(x-x_i), $$\n",
    "\n",
    "and $h(x)$ is the step function.\n",
    "\n",
    "We can also test whether two samples are consistent with being drawn from the same DF by calculating\n",
    "\n",
    "$$ D = \\max |S_{N1}(x) - S_{N2}(x)|. $$\n",
    "\n",
    "The KS statistic $D$ remains unchanged if the variable $x$ is monotonically transformed, for example, from $x$ to $\\log{x}$.\n",
    "\n",
    "The statistical significance of $D$ is measured by the probability function $P_{KS}$, which is implemented in [<b>stats.ks_2samp</b>](http://docs.scipy.org/doc/scipy-0.14.0/reference/generated/scipy.stats.ks_2samp.html)."
   ]
  },
  {
   "cell_type": "code",
   "execution_count": 9,
   "metadata": {
    "collapsed": false
   },
   "outputs": [
    {
     "name": "stdout",
     "output_type": "stream",
     "text": [
      "M: D_KS=  0.143094447081  P_KS=  0.540360300793\n",
      "d: D_KS=  0.420028476507  P_KS=  3.04399270315e-05\n"
     ]
    }
   ],
   "source": [
    "D, p = stats.ks_2samp(lgm1, lgm2)\n",
    "print \"M: D_KS= \", D, \" P_KS= \", p\n",
    "D, p = stats.ks_2samp(lgd1, lgd2)\n",
    "print \"d: D_KS= \", D, \" P_KS= \", p\n",
    "\n",
    "#NOTE: D is Meaningless without knowing probability. Depends on number of points. We actually care more about P..."
   ]
  },
  {
   "cell_type": "markdown",
   "metadata": {},
   "source": [
    "This significance depends sensitively on the number of points in the samples.  For example, doubling the samples by repeating the same numbers changes $P_{KS}$."
   ]
  },
  {
   "cell_type": "code",
   "execution_count": 10,
   "metadata": {
    "collapsed": false
   },
   "outputs": [
    {
     "name": "stdout",
     "output_type": "stream",
     "text": [
      "doubling the sample of M\n",
      "M: D_KS=  0.143094447081  P_KS=  0.15867204969\n"
     ]
    }
   ],
   "source": [
    "x1 = np.array([lgm1, lgm1]).flatten()\n",
    "x2 = np.array([lgm2, lgm2]).flatten()\n",
    "D, p = stats.ks_2samp(x1, x2)\n",
    "print \"doubling the sample of M\"\n",
    "print \"M: D_KS= \", D, \" P_KS= \", p\n",
    "\n",
    "#If prob is low -> KS test shows something is inconsistent\n",
    "#If prob is not low -> KS test shows something is NOT inconsistent. This does NOT imply consistent"
   ]
  },
  {
   "cell_type": "markdown",
   "metadata": {},
   "source": [
    "If $N_1 + N_2$ is large, $P_{KS}$ will often be very small.  However it does not indicate as high a significance of the difference.  On the other hand, if $P_{KS}$ is high, we <i>cannot</i> say that the two distributions are consistent.  All we can say is that they are <i>not inconsistent</i> with each other.\n",
    "\n",
    "As a rule of thumb of the practitioners, $P_{KS} < 0.01$ indicates the two samples are inconsistent with being drawn from the same DF.  If $P_{KS} > 0.01$, they are not inconsistent."
   ]
  },
  {
   "cell_type": "markdown",
   "metadata": {},
   "source": [
    "### Correlation coefficients\n",
    "\n",
    "<b>Reading:</b> notes below, as well as $\\S$[14.5-6](https://umich.instructure.com/files/2677286/download?download_frd=1) of [Numerical Recipes](http://numerical.recipes) and $\\S$3.6 of [Machine Learning](http://www.astroml.org/)."
   ]
  },
  {
   "cell_type": "markdown",
   "metadata": {},
   "source": [
    "Often we are interested whether two properties of objects in our sample are correlated, that it, vary dependent on each other.  The two commonly used correlation coefficients measure the degree of correlation.\n",
    "\n",
    "Pearson's linear correlation coefficient is implemented in [<b>stats.pearsonr</b>](http://docs.scipy.org/doc/scipy-0.14.0/reference/generated/scipy.stats.pearsonr.html). \n",
    "\n",
    "$$\n",
    "   r = {\\sum_i (x_i - \\bar{x}) (y_i - \\bar{y}) \\over \\sqrt{\\sum_i (x_i - \\bar{x})^2} \\sqrt{\\sum_i (y_i - \\bar{y})^2}}\n",
    "$$\n",
    "\n",
    "It varies between $-1 \\le r \\le 1$.  For uncorrelated variables, $r=0$."
   ]
  },
  {
   "cell_type": "code",
   "execution_count": 13,
   "metadata": {
    "collapsed": false
   },
   "outputs": [
    {
     "name": "stdout",
     "output_type": "stream",
     "text": [
      "Pearson r, p: -0.0628142430524\n"
     ]
    }
   ],
   "source": [
    "r, p = stats.pearsonr(m, feh)\n",
    "print 'Pearson r, p:', r"
   ]
  },
  {
   "cell_type": "markdown",
   "metadata": {},
   "source": [
    "If the pairs $(x_i, y_i)$ are drawn from two uncorrelated Gaussian distributions, then the distribution of $r$ follows Student's $t$ distribution with $\\nu = N-2$ degrees of freedom and \n",
    "$$\n",
    "    t = r \\sqrt{N-2 \\over 1-r^2}.\n",
    "$$\n",
    "Thus, a measured value of $r$ can be used to assign the significance of the statement that $\\{x_i\\}$ and $\\{y_i\\}$ are correlated.\n",
    "\n",
    "One-sided $t$ CDF gives the probability that a value of $r$ as large as observed would arise y chance.  Note, that Scipy's routine gives the double-sided probability (effectively, for absolute value $|r|$). "
   ]
  },
  {
   "cell_type": "code",
   "execution_count": 14,
   "metadata": {
    "collapsed": false
   },
   "outputs": [
    {
     "name": "stdout",
     "output_type": "stream",
     "text": [
      "Significance of r= -0.0628142430524  is  0.229659266984  Scipy's value is 0.459318533967\n"
     ]
    }
   ],
   "source": [
    "N = len(m)\n",
    "t = r*np.sqrt((N-2)/(1.-r**2))\n",
    "nu = N-2\n",
    "print 'Significance of r=',r,' is ',stats.t.cdf(t,nu),\" Scipy's value is\",p"
   ]
  },
  {
   "cell_type": "markdown",
   "metadata": {},
   "source": [
    "Spearman's rank correlation coefficient uses only the ranks of data points, not their actual values.  Its inference is more robust than Pearson's coefficient. It is implemented in [<b>stats.spearmanr</b>](http://docs.scipy.org/doc/scipy/reference/generated/scipy.stats.spearmanr.html)."
   ]
  },
  {
   "cell_type": "code",
   "execution_count": 15,
   "metadata": {
    "collapsed": false
   },
   "outputs": [
    {
     "name": "stdout",
     "output_type": "stream",
     "text": [
      "Spearman r, p: -0.0465705009013 0.583438431423\n"
     ]
    }
   ],
   "source": [
    "rs, p = stats.spearmanr(m, feh)\n",
    "print 'Spearman r, p:', rs, p"
   ]
  },
  {
   "cell_type": "code",
   "execution_count": null,
   "metadata": {
    "collapsed": true
   },
   "outputs": [],
   "source": []
  }
 ],
 "metadata": {
  "anaconda-cloud": {},
  "kernelspec": {
   "display_name": "Python [default]",
   "language": "python",
   "name": "python2"
  },
  "language_info": {
   "codemirror_mode": {
    "name": "ipython",
    "version": 2
   },
   "file_extension": ".py",
   "mimetype": "text/x-python",
   "name": "python",
   "nbconvert_exporter": "python",
   "pygments_lexer": "ipython2",
   "version": "2.7.12"
  }
 },
 "nbformat": 4,
 "nbformat_minor": 0
}
